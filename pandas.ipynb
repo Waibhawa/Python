{
 "cells": [
  {
   "cell_type": "code",
   "execution_count": 82,
   "metadata": {},
   "outputs": [],
   "source": [
    "import pandas as pd"
   ]
  },
  {
   "cell_type": "code",
   "execution_count": 83,
   "metadata": {},
   "outputs": [
    {
     "data": {
      "text/html": [
       "<div>\n",
       "<style scoped>\n",
       "    .dataframe tbody tr th:only-of-type {\n",
       "        vertical-align: middle;\n",
       "    }\n",
       "\n",
       "    .dataframe tbody tr th {\n",
       "        vertical-align: top;\n",
       "    }\n",
       "\n",
       "    .dataframe thead th {\n",
       "        text-align: right;\n",
       "    }\n",
       "</style>\n",
       "<table border=\"1\" class=\"dataframe\">\n",
       "  <thead>\n",
       "    <tr style=\"text-align: right;\">\n",
       "      <th></th>\n",
       "      <th>Index</th>\n",
       "      <th>Organization Id</th>\n",
       "      <th>Name</th>\n",
       "      <th>Website</th>\n",
       "      <th>Country</th>\n",
       "      <th>Description</th>\n",
       "      <th>Founded</th>\n",
       "      <th>Industry</th>\n",
       "      <th>Number of employees</th>\n",
       "    </tr>\n",
       "  </thead>\n",
       "  <tbody>\n",
       "    <tr>\n",
       "      <th>0</th>\n",
       "      <td>1</td>\n",
       "      <td>522816eF8fdBE6d</td>\n",
       "      <td>Mckinney PLC</td>\n",
       "      <td>http://soto.com/</td>\n",
       "      <td>Sri Lanka</td>\n",
       "      <td>Synergized global system engine</td>\n",
       "      <td>1988</td>\n",
       "      <td>Dairy</td>\n",
       "      <td>3930</td>\n",
       "    </tr>\n",
       "    <tr>\n",
       "      <th>1</th>\n",
       "      <td>2</td>\n",
       "      <td>70C7FBD7e6Aa3Ea</td>\n",
       "      <td>Cunningham LLC</td>\n",
       "      <td>http://harding-duffy.com/</td>\n",
       "      <td>Namibia</td>\n",
       "      <td>Team-oriented fault-tolerant adapter</td>\n",
       "      <td>2018</td>\n",
       "      <td>Library</td>\n",
       "      <td>7871</td>\n",
       "    </tr>\n",
       "    <tr>\n",
       "      <th>2</th>\n",
       "      <td>3</td>\n",
       "      <td>428B397eA2d7290</td>\n",
       "      <td>Ruiz-Walls</td>\n",
       "      <td>http://www.atkins.biz/</td>\n",
       "      <td>Iran</td>\n",
       "      <td>Re-contextualized bifurcated moderator</td>\n",
       "      <td>2003</td>\n",
       "      <td>Hospital / Health Care</td>\n",
       "      <td>3095</td>\n",
       "    </tr>\n",
       "    <tr>\n",
       "      <th>3</th>\n",
       "      <td>4</td>\n",
       "      <td>9D234Ae8Cc51C1c</td>\n",
       "      <td>Parrish, Osborne and Clarke</td>\n",
       "      <td>http://salazar.info/</td>\n",
       "      <td>British Indian Ocean Territory (Chagos Archipe...</td>\n",
       "      <td>Fully-configurable next generation concept</td>\n",
       "      <td>1989</td>\n",
       "      <td>Supermarkets</td>\n",
       "      <td>5422</td>\n",
       "    </tr>\n",
       "    <tr>\n",
       "      <th>4</th>\n",
       "      <td>5</td>\n",
       "      <td>6CDCcdE3D0b7b44</td>\n",
       "      <td>Diaz, Robles and Haley</td>\n",
       "      <td>https://www.brooks-scott.net/</td>\n",
       "      <td>Botswana</td>\n",
       "      <td>Inverse intangible methodology</td>\n",
       "      <td>2013</td>\n",
       "      <td>Nanotechnology</td>\n",
       "      <td>3135</td>\n",
       "    </tr>\n",
       "  </tbody>\n",
       "</table>\n",
       "</div>"
      ],
      "text/plain": [
       "   Index  Organization Id                         Name  \\\n",
       "0      1  522816eF8fdBE6d                 Mckinney PLC   \n",
       "1      2  70C7FBD7e6Aa3Ea               Cunningham LLC   \n",
       "2      3  428B397eA2d7290                   Ruiz-Walls   \n",
       "3      4  9D234Ae8Cc51C1c  Parrish, Osborne and Clarke   \n",
       "4      5  6CDCcdE3D0b7b44       Diaz, Robles and Haley   \n",
       "\n",
       "                         Website  \\\n",
       "0               http://soto.com/   \n",
       "1      http://harding-duffy.com/   \n",
       "2         http://www.atkins.biz/   \n",
       "3           http://salazar.info/   \n",
       "4  https://www.brooks-scott.net/   \n",
       "\n",
       "                                             Country  \\\n",
       "0                                          Sri Lanka   \n",
       "1                                            Namibia   \n",
       "2                                               Iran   \n",
       "3  British Indian Ocean Territory (Chagos Archipe...   \n",
       "4                                           Botswana   \n",
       "\n",
       "                                  Description  Founded  \\\n",
       "0             Synergized global system engine     1988   \n",
       "1        Team-oriented fault-tolerant adapter     2018   \n",
       "2      Re-contextualized bifurcated moderator     2003   \n",
       "3  Fully-configurable next generation concept     1989   \n",
       "4              Inverse intangible methodology     2013   \n",
       "\n",
       "                 Industry  Number of employees  \n",
       "0                   Dairy                 3930  \n",
       "1                 Library                 7871  \n",
       "2  Hospital / Health Care                 3095  \n",
       "3            Supermarkets                 5422  \n",
       "4          Nanotechnology                 3135  "
      ]
     },
     "execution_count": 83,
     "metadata": {},
     "output_type": "execute_result"
    }
   ],
   "source": [
    "data_path = \"C:/Users/Acer/Downloads/organizations-10000.csv\"\n",
    "df = pd.read_csv(data_path)\n",
    "df.head()"
   ]
  },
  {
   "cell_type": "code",
   "execution_count": 84,
   "metadata": {},
   "outputs": [
    {
     "data": {
      "text/html": [
       "<div>\n",
       "<style scoped>\n",
       "    .dataframe tbody tr th:only-of-type {\n",
       "        vertical-align: middle;\n",
       "    }\n",
       "\n",
       "    .dataframe tbody tr th {\n",
       "        vertical-align: top;\n",
       "    }\n",
       "\n",
       "    .dataframe thead th {\n",
       "        text-align: right;\n",
       "    }\n",
       "</style>\n",
       "<table border=\"1\" class=\"dataframe\">\n",
       "  <thead>\n",
       "    <tr style=\"text-align: right;\">\n",
       "      <th></th>\n",
       "      <th>Index</th>\n",
       "      <th>Organization Id</th>\n",
       "      <th>Name</th>\n",
       "      <th>Website</th>\n",
       "      <th>Country</th>\n",
       "      <th>Description</th>\n",
       "      <th>Founded</th>\n",
       "      <th>Industry</th>\n",
       "      <th>Number of employees</th>\n",
       "    </tr>\n",
       "  </thead>\n",
       "  <tbody>\n",
       "    <tr>\n",
       "      <th>9997</th>\n",
       "      <td>9998</td>\n",
       "      <td>B4B92A44e0331Bc</td>\n",
       "      <td>Franklin-Ayala</td>\n",
       "      <td>http://www.torres.org/</td>\n",
       "      <td>Yemen</td>\n",
       "      <td>Polarized exuding orchestration</td>\n",
       "      <td>1983</td>\n",
       "      <td>Financial Services</td>\n",
       "      <td>8951</td>\n",
       "    </tr>\n",
       "    <tr>\n",
       "      <th>9998</th>\n",
       "      <td>9999</td>\n",
       "      <td>01D2539e270CEbd</td>\n",
       "      <td>Wolfe-Mckee</td>\n",
       "      <td>http://www.parks.com/</td>\n",
       "      <td>Togo</td>\n",
       "      <td>Balanced value-added ability</td>\n",
       "      <td>1975</td>\n",
       "      <td>Environmental Services</td>\n",
       "      <td>2505</td>\n",
       "    </tr>\n",
       "    <tr>\n",
       "      <th>9999</th>\n",
       "      <td>10000</td>\n",
       "      <td>0D3b7DcFA21d92d</td>\n",
       "      <td>Beck LLC</td>\n",
       "      <td>https://wagner-glover.com/</td>\n",
       "      <td>Georgia</td>\n",
       "      <td>Decentralized context-sensitive service-desk</td>\n",
       "      <td>2007</td>\n",
       "      <td>Wireless</td>\n",
       "      <td>4552</td>\n",
       "    </tr>\n",
       "  </tbody>\n",
       "</table>\n",
       "</div>"
      ],
      "text/plain": [
       "      Index  Organization Id            Name                     Website  \\\n",
       "9997   9998  B4B92A44e0331Bc  Franklin-Ayala      http://www.torres.org/   \n",
       "9998   9999  01D2539e270CEbd     Wolfe-Mckee       http://www.parks.com/   \n",
       "9999  10000  0D3b7DcFA21d92d        Beck LLC  https://wagner-glover.com/   \n",
       "\n",
       "      Country                                   Description  Founded  \\\n",
       "9997    Yemen               Polarized exuding orchestration     1983   \n",
       "9998     Togo                  Balanced value-added ability     1975   \n",
       "9999  Georgia  Decentralized context-sensitive service-desk     2007   \n",
       "\n",
       "                    Industry  Number of employees  \n",
       "9997      Financial Services                 8951  \n",
       "9998  Environmental Services                 2505  \n",
       "9999                Wireless                 4552  "
      ]
     },
     "execution_count": 84,
     "metadata": {},
     "output_type": "execute_result"
    }
   ],
   "source": [
    "df.tail(3)"
   ]
  },
  {
   "cell_type": "code",
   "execution_count": 85,
   "metadata": {},
   "outputs": [
    {
     "data": {
      "text/html": [
       "<div>\n",
       "<style scoped>\n",
       "    .dataframe tbody tr th:only-of-type {\n",
       "        vertical-align: middle;\n",
       "    }\n",
       "\n",
       "    .dataframe tbody tr th {\n",
       "        vertical-align: top;\n",
       "    }\n",
       "\n",
       "    .dataframe thead th {\n",
       "        text-align: right;\n",
       "    }\n",
       "</style>\n",
       "<table border=\"1\" class=\"dataframe\">\n",
       "  <thead>\n",
       "    <tr style=\"text-align: right;\">\n",
       "      <th></th>\n",
       "      <th>Index</th>\n",
       "      <th>Organization Id</th>\n",
       "      <th>Name</th>\n",
       "      <th>Website</th>\n",
       "      <th>Country</th>\n",
       "      <th>Description</th>\n",
       "      <th>Founded</th>\n",
       "      <th>Industry</th>\n",
       "      <th>Number of employees</th>\n",
       "    </tr>\n",
       "  </thead>\n",
       "  <tbody>\n",
       "    <tr>\n",
       "      <th>6949</th>\n",
       "      <td>6950</td>\n",
       "      <td>160Ea02F5cf17CD</td>\n",
       "      <td>Wolfe-Mcdonald</td>\n",
       "      <td>http://www.austin.com/</td>\n",
       "      <td>Falkland Islands (Malvinas)</td>\n",
       "      <td>Extended explicit hierarchy</td>\n",
       "      <td>1975</td>\n",
       "      <td>Electrical / Electronic Manufacturing</td>\n",
       "      <td>4453</td>\n",
       "    </tr>\n",
       "    <tr>\n",
       "      <th>811</th>\n",
       "      <td>812</td>\n",
       "      <td>e9CEdeeDD3302FE</td>\n",
       "      <td>Ferrell, Wallace and Savage</td>\n",
       "      <td>http://www.mcdonald.org/</td>\n",
       "      <td>Poland</td>\n",
       "      <td>Business-focused systemic approach</td>\n",
       "      <td>2008</td>\n",
       "      <td>Civic / Social Organization</td>\n",
       "      <td>4697</td>\n",
       "    </tr>\n",
       "    <tr>\n",
       "      <th>342</th>\n",
       "      <td>343</td>\n",
       "      <td>5Aa97EaccdECB5c</td>\n",
       "      <td>Eaton-Howe</td>\n",
       "      <td>https://www.waller.com/</td>\n",
       "      <td>Kenya</td>\n",
       "      <td>Virtual intermediate challenge</td>\n",
       "      <td>1981</td>\n",
       "      <td>Computer Hardware</td>\n",
       "      <td>4574</td>\n",
       "    </tr>\n",
       "    <tr>\n",
       "      <th>4973</th>\n",
       "      <td>4974</td>\n",
       "      <td>a7Da07dbea33fcC</td>\n",
       "      <td>Padilla, Nunez and Beasley</td>\n",
       "      <td>http://www.spears.com/</td>\n",
       "      <td>Haiti</td>\n",
       "      <td>User-centric web-enabled database</td>\n",
       "      <td>1981</td>\n",
       "      <td>Wholesale</td>\n",
       "      <td>9909</td>\n",
       "    </tr>\n",
       "  </tbody>\n",
       "</table>\n",
       "</div>"
      ],
      "text/plain": [
       "      Index  Organization Id                         Name  \\\n",
       "6949   6950  160Ea02F5cf17CD               Wolfe-Mcdonald   \n",
       "811     812  e9CEdeeDD3302FE  Ferrell, Wallace and Savage   \n",
       "342     343  5Aa97EaccdECB5c                   Eaton-Howe   \n",
       "4973   4974  a7Da07dbea33fcC   Padilla, Nunez and Beasley   \n",
       "\n",
       "                       Website                      Country  \\\n",
       "6949    http://www.austin.com/  Falkland Islands (Malvinas)   \n",
       "811   http://www.mcdonald.org/                       Poland   \n",
       "342    https://www.waller.com/                        Kenya   \n",
       "4973    http://www.spears.com/                        Haiti   \n",
       "\n",
       "                             Description  Founded  \\\n",
       "6949         Extended explicit hierarchy     1975   \n",
       "811   Business-focused systemic approach     2008   \n",
       "342       Virtual intermediate challenge     1981   \n",
       "4973   User-centric web-enabled database     1981   \n",
       "\n",
       "                                   Industry  Number of employees  \n",
       "6949  Electrical / Electronic Manufacturing                 4453  \n",
       "811             Civic / Social Organization                 4697  \n",
       "342                       Computer Hardware                 4574  \n",
       "4973                              Wholesale                 9909  "
      ]
     },
     "execution_count": 85,
     "metadata": {},
     "output_type": "execute_result"
    }
   ],
   "source": [
    "df.sample(4)"
   ]
  },
  {
   "cell_type": "code",
   "execution_count": 86,
   "metadata": {},
   "outputs": [
    {
     "data": {
      "text/html": [
       "<div>\n",
       "<style scoped>\n",
       "    .dataframe tbody tr th:only-of-type {\n",
       "        vertical-align: middle;\n",
       "    }\n",
       "\n",
       "    .dataframe tbody tr th {\n",
       "        vertical-align: top;\n",
       "    }\n",
       "\n",
       "    .dataframe thead th {\n",
       "        text-align: right;\n",
       "    }\n",
       "</style>\n",
       "<table border=\"1\" class=\"dataframe\">\n",
       "  <thead>\n",
       "    <tr style=\"text-align: right;\">\n",
       "      <th></th>\n",
       "      <th>Index</th>\n",
       "      <th>Founded</th>\n",
       "      <th>Number of employees</th>\n",
       "    </tr>\n",
       "  </thead>\n",
       "  <tbody>\n",
       "    <tr>\n",
       "      <th>count</th>\n",
       "      <td>10000.00000</td>\n",
       "      <td>10000.000000</td>\n",
       "      <td>10000.000000</td>\n",
       "    </tr>\n",
       "    <tr>\n",
       "      <th>mean</th>\n",
       "      <td>5000.50000</td>\n",
       "      <td>1995.776700</td>\n",
       "      <td>4961.321000</td>\n",
       "    </tr>\n",
       "    <tr>\n",
       "      <th>std</th>\n",
       "      <td>2886.89568</td>\n",
       "      <td>14.991608</td>\n",
       "      <td>2911.862096</td>\n",
       "    </tr>\n",
       "    <tr>\n",
       "      <th>min</th>\n",
       "      <td>1.00000</td>\n",
       "      <td>1970.000000</td>\n",
       "      <td>1.000000</td>\n",
       "    </tr>\n",
       "    <tr>\n",
       "      <th>25%</th>\n",
       "      <td>2500.75000</td>\n",
       "      <td>1983.000000</td>\n",
       "      <td>2446.750000</td>\n",
       "    </tr>\n",
       "    <tr>\n",
       "      <th>50%</th>\n",
       "      <td>5000.50000</td>\n",
       "      <td>1996.000000</td>\n",
       "      <td>4894.000000</td>\n",
       "    </tr>\n",
       "    <tr>\n",
       "      <th>75%</th>\n",
       "      <td>7500.25000</td>\n",
       "      <td>2009.000000</td>\n",
       "      <td>7530.000000</td>\n",
       "    </tr>\n",
       "    <tr>\n",
       "      <th>max</th>\n",
       "      <td>10000.00000</td>\n",
       "      <td>2022.000000</td>\n",
       "      <td>9999.000000</td>\n",
       "    </tr>\n",
       "  </tbody>\n",
       "</table>\n",
       "</div>"
      ],
      "text/plain": [
       "             Index       Founded  Number of employees\n",
       "count  10000.00000  10000.000000         10000.000000\n",
       "mean    5000.50000   1995.776700          4961.321000\n",
       "std     2886.89568     14.991608          2911.862096\n",
       "min        1.00000   1970.000000             1.000000\n",
       "25%     2500.75000   1983.000000          2446.750000\n",
       "50%     5000.50000   1996.000000          4894.000000\n",
       "75%     7500.25000   2009.000000          7530.000000\n",
       "max    10000.00000   2022.000000          9999.000000"
      ]
     },
     "execution_count": 86,
     "metadata": {},
     "output_type": "execute_result"
    }
   ],
   "source": [
    "df.describe()"
   ]
  },
  {
   "cell_type": "code",
   "execution_count": 87,
   "metadata": {},
   "outputs": [
    {
     "name": "stdout",
     "output_type": "stream",
     "text": [
      "<class 'pandas.core.frame.DataFrame'>\n",
      "RangeIndex: 10000 entries, 0 to 9999\n",
      "Data columns (total 9 columns):\n",
      " #   Column               Non-Null Count  Dtype \n",
      "---  ------               --------------  ----- \n",
      " 0   Index                10000 non-null  int64 \n",
      " 1   Organization Id      10000 non-null  object\n",
      " 2   Name                 10000 non-null  object\n",
      " 3   Website              10000 non-null  object\n",
      " 4   Country              10000 non-null  object\n",
      " 5   Description          10000 non-null  object\n",
      " 6   Founded              10000 non-null  int64 \n",
      " 7   Industry             10000 non-null  object\n",
      " 8   Number of employees  10000 non-null  int64 \n",
      "dtypes: int64(3), object(6)\n",
      "memory usage: 703.3+ KB\n"
     ]
    }
   ],
   "source": [
    "df.info()"
   ]
  },
  {
   "cell_type": "code",
   "execution_count": 88,
   "metadata": {},
   "outputs": [
    {
     "data": {
      "text/plain": [
       "Index(['Index', 'Organization Id', 'Name', 'Website', 'Country', 'Description',\n",
       "       'Founded', 'Industry', 'Number of employees'],\n",
       "      dtype='object')"
      ]
     },
     "execution_count": 88,
     "metadata": {},
     "output_type": "execute_result"
    }
   ],
   "source": [
    "df.columns"
   ]
  },
  {
   "cell_type": "code",
   "execution_count": 89,
   "metadata": {},
   "outputs": [
    {
     "data": {
      "text/plain": [
       "pandas.core.frame.DataFrame"
      ]
     },
     "execution_count": 89,
     "metadata": {},
     "output_type": "execute_result"
    }
   ],
   "source": [
    "type(df[['Name']])"
   ]
  },
  {
   "cell_type": "code",
   "execution_count": 90,
   "metadata": {},
   "outputs": [
    {
     "data": {
      "text/html": [
       "<div>\n",
       "<style scoped>\n",
       "    .dataframe tbody tr th:only-of-type {\n",
       "        vertical-align: middle;\n",
       "    }\n",
       "\n",
       "    .dataframe tbody tr th {\n",
       "        vertical-align: top;\n",
       "    }\n",
       "\n",
       "    .dataframe thead th {\n",
       "        text-align: right;\n",
       "    }\n",
       "</style>\n",
       "<table border=\"1\" class=\"dataframe\">\n",
       "  <thead>\n",
       "    <tr style=\"text-align: right;\">\n",
       "      <th></th>\n",
       "      <th>Name</th>\n",
       "    </tr>\n",
       "  </thead>\n",
       "  <tbody>\n",
       "    <tr>\n",
       "      <th>0</th>\n",
       "      <td>Mckinney PLC</td>\n",
       "    </tr>\n",
       "    <tr>\n",
       "      <th>1</th>\n",
       "      <td>Cunningham LLC</td>\n",
       "    </tr>\n",
       "    <tr>\n",
       "      <th>2</th>\n",
       "      <td>Ruiz-Walls</td>\n",
       "    </tr>\n",
       "    <tr>\n",
       "      <th>3</th>\n",
       "      <td>Parrish, Osborne and Clarke</td>\n",
       "    </tr>\n",
       "    <tr>\n",
       "      <th>4</th>\n",
       "      <td>Diaz, Robles and Haley</td>\n",
       "    </tr>\n",
       "    <tr>\n",
       "      <th>...</th>\n",
       "      <td>...</td>\n",
       "    </tr>\n",
       "    <tr>\n",
       "      <th>9995</th>\n",
       "      <td>Neal, Day and Wang</td>\n",
       "    </tr>\n",
       "    <tr>\n",
       "      <th>9996</th>\n",
       "      <td>Barrett, Rojas and Adkins</td>\n",
       "    </tr>\n",
       "    <tr>\n",
       "      <th>9997</th>\n",
       "      <td>Franklin-Ayala</td>\n",
       "    </tr>\n",
       "    <tr>\n",
       "      <th>9998</th>\n",
       "      <td>Wolfe-Mckee</td>\n",
       "    </tr>\n",
       "    <tr>\n",
       "      <th>9999</th>\n",
       "      <td>Beck LLC</td>\n",
       "    </tr>\n",
       "  </tbody>\n",
       "</table>\n",
       "<p>10000 rows × 1 columns</p>\n",
       "</div>"
      ],
      "text/plain": [
       "                             Name\n",
       "0                    Mckinney PLC\n",
       "1                  Cunningham LLC\n",
       "2                      Ruiz-Walls\n",
       "3     Parrish, Osborne and Clarke\n",
       "4          Diaz, Robles and Haley\n",
       "...                           ...\n",
       "9995           Neal, Day and Wang\n",
       "9996    Barrett, Rojas and Adkins\n",
       "9997               Franklin-Ayala\n",
       "9998                  Wolfe-Mckee\n",
       "9999                     Beck LLC\n",
       "\n",
       "[10000 rows x 1 columns]"
      ]
     },
     "execution_count": 90,
     "metadata": {},
     "output_type": "execute_result"
    }
   ],
   "source": [
    "df[['Name']]"
   ]
  },
  {
   "cell_type": "code",
   "execution_count": 91,
   "metadata": {},
   "outputs": [
    {
     "data": {
      "text/plain": [
       "0                      Mckinney PLC\n",
       "1                    Cunningham LLC\n",
       "2                        Ruiz-Walls\n",
       "3       Parrish, Osborne and Clarke\n",
       "4            Diaz, Robles and Haley\n",
       "                   ...             \n",
       "9995             Neal, Day and Wang\n",
       "9996      Barrett, Rojas and Adkins\n",
       "9997                 Franklin-Ayala\n",
       "9998                    Wolfe-Mckee\n",
       "9999                       Beck LLC\n",
       "Name: Name, Length: 10000, dtype: object"
      ]
     },
     "execution_count": 91,
     "metadata": {},
     "output_type": "execute_result"
    }
   ],
   "source": [
    "df.Name"
   ]
  },
  {
   "cell_type": "code",
   "execution_count": 92,
   "metadata": {},
   "outputs": [
    {
     "data": {
      "text/plain": [
       "4961.321"
      ]
     },
     "execution_count": 92,
     "metadata": {},
     "output_type": "execute_result"
    }
   ],
   "source": [
    "df['Number of employees'].mean()"
   ]
  },
  {
   "cell_type": "code",
   "execution_count": 93,
   "metadata": {},
   "outputs": [
    {
     "data": {
      "text/plain": [
       "4894.0"
      ]
     },
     "execution_count": 93,
     "metadata": {},
     "output_type": "execute_result"
    }
   ],
   "source": [
    "df['Number of employees'].median()"
   ]
  },
  {
   "cell_type": "code",
   "execution_count": 94,
   "metadata": {},
   "outputs": [
    {
     "data": {
      "text/plain": [
       "0    Congo\n",
       "Name: Country, dtype: object"
      ]
     },
     "execution_count": 94,
     "metadata": {},
     "output_type": "execute_result"
    }
   ],
   "source": [
    "df['Country'].mode()"
   ]
  },
  {
   "cell_type": "code",
   "execution_count": 95,
   "metadata": {},
   "outputs": [
    {
     "data": {
      "text/plain": [
       "0       False\n",
       "1       False\n",
       "2       False\n",
       "3       False\n",
       "4       False\n",
       "        ...  \n",
       "9995    False\n",
       "9996    False\n",
       "9997    False\n",
       "9998    False\n",
       "9999    False\n",
       "Length: 10000, dtype: bool"
      ]
     },
     "execution_count": 95,
     "metadata": {},
     "output_type": "execute_result"
    }
   ],
   "source": [
    "df.duplicated()"
   ]
  },
  {
   "cell_type": "code",
   "execution_count": 96,
   "metadata": {},
   "outputs": [
    {
     "data": {
      "text/plain": [
       "0"
      ]
     },
     "execution_count": 96,
     "metadata": {},
     "output_type": "execute_result"
    }
   ],
   "source": [
    "df.duplicated().sum()"
   ]
  },
  {
   "cell_type": "code",
   "execution_count": 97,
   "metadata": {},
   "outputs": [],
   "source": [
    "\n",
    "df=df.drop_duplicates()\n"
   ]
  },
  {
   "cell_type": "code",
   "execution_count": 98,
   "metadata": {},
   "outputs": [
    {
     "name": "stdout",
     "output_type": "stream",
     "text": [
      "<class 'pandas.core.frame.DataFrame'>\n",
      "Index: 9980 entries, 0 to 9999\n",
      "Data columns (total 9 columns):\n",
      " #   Column               Non-Null Count  Dtype \n",
      "---  ------               --------------  ----- \n",
      " 0   Index                9980 non-null   int64 \n",
      " 1   Organization Id      9980 non-null   object\n",
      " 2   Name                 9980 non-null   object\n",
      " 3   Website              9980 non-null   object\n",
      " 4   Country              9980 non-null   object\n",
      " 5   Description          9980 non-null   object\n",
      " 6   Founded              9980 non-null   int64 \n",
      " 7   Industry             9980 non-null   object\n",
      " 8   Number of employees  9980 non-null   int64 \n",
      "dtypes: int64(3), object(6)\n",
      "memory usage: 779.7+ KB\n"
     ]
    }
   ],
   "source": [
    "new_df = df.drop_duplicates(['Country', 'Founded','Industry'])\n",
    "new_df.info()"
   ]
  },
  {
   "cell_type": "code",
   "execution_count": 99,
   "metadata": {},
   "outputs": [
    {
     "name": "stdout",
     "output_type": "stream",
     "text": [
      "<class 'pandas.core.frame.DataFrame'>\n",
      "RangeIndex: 9980 entries, 0 to 9979\n",
      "Data columns (total 9 columns):\n",
      " #   Column               Non-Null Count  Dtype \n",
      "---  ------               --------------  ----- \n",
      " 0   Index                9980 non-null   int64 \n",
      " 1   Organization Id      9980 non-null   object\n",
      " 2   Name                 9980 non-null   object\n",
      " 3   Website              9980 non-null   object\n",
      " 4   Country              9980 non-null   object\n",
      " 5   Description          9980 non-null   object\n",
      " 6   Founded              9980 non-null   int64 \n",
      " 7   Industry             9980 non-null   object\n",
      " 8   Number of employees  9980 non-null   int64 \n",
      "dtypes: int64(3), object(6)\n",
      "memory usage: 701.8+ KB\n"
     ]
    }
   ],
   "source": [
    "new_df = new_df.reset_index(drop=True)\n",
    "new_df.info()"
   ]
  },
  {
   "cell_type": "code",
   "execution_count": 100,
   "metadata": {},
   "outputs": [
    {
     "data": {
      "text/html": [
       "<div>\n",
       "<style scoped>\n",
       "    .dataframe tbody tr th:only-of-type {\n",
       "        vertical-align: middle;\n",
       "    }\n",
       "\n",
       "    .dataframe tbody tr th {\n",
       "        vertical-align: top;\n",
       "    }\n",
       "\n",
       "    .dataframe thead th {\n",
       "        text-align: right;\n",
       "    }\n",
       "</style>\n",
       "<table border=\"1\" class=\"dataframe\">\n",
       "  <thead>\n",
       "    <tr style=\"text-align: right;\">\n",
       "      <th></th>\n",
       "      <th>Organization Id</th>\n",
       "      <th>Name</th>\n",
       "      <th>Website</th>\n",
       "      <th>Country</th>\n",
       "      <th>Description</th>\n",
       "      <th>Founded</th>\n",
       "      <th>Industry</th>\n",
       "      <th>Number of employees</th>\n",
       "    </tr>\n",
       "  </thead>\n",
       "  <tbody>\n",
       "    <tr>\n",
       "      <th>0</th>\n",
       "      <td>522816eF8fdBE6d</td>\n",
       "      <td>Mckinney PLC</td>\n",
       "      <td>http://soto.com/</td>\n",
       "      <td>Sri Lanka</td>\n",
       "      <td>Synergized global system engine</td>\n",
       "      <td>1988</td>\n",
       "      <td>Dairy</td>\n",
       "      <td>3930</td>\n",
       "    </tr>\n",
       "    <tr>\n",
       "      <th>1</th>\n",
       "      <td>70C7FBD7e6Aa3Ea</td>\n",
       "      <td>Cunningham LLC</td>\n",
       "      <td>http://harding-duffy.com/</td>\n",
       "      <td>Namibia</td>\n",
       "      <td>Team-oriented fault-tolerant adapter</td>\n",
       "      <td>2018</td>\n",
       "      <td>Library</td>\n",
       "      <td>7871</td>\n",
       "    </tr>\n",
       "  </tbody>\n",
       "</table>\n",
       "</div>"
      ],
      "text/plain": [
       "   Organization Id            Name                    Website    Country  \\\n",
       "0  522816eF8fdBE6d    Mckinney PLC           http://soto.com/  Sri Lanka   \n",
       "1  70C7FBD7e6Aa3Ea  Cunningham LLC  http://harding-duffy.com/    Namibia   \n",
       "\n",
       "                            Description  Founded Industry  Number of employees  \n",
       "0       Synergized global system engine     1988    Dairy                 3930  \n",
       "1  Team-oriented fault-tolerant adapter     2018  Library                 7871  "
      ]
     },
     "execution_count": 100,
     "metadata": {},
     "output_type": "execute_result"
    }
   ],
   "source": [
    "df.drop('Index',axis=1, inplace=True)\n",
    "df.head(2)"
   ]
  },
  {
   "cell_type": "code",
   "execution_count": 101,
   "metadata": {},
   "outputs": [
    {
     "data": {
      "text/html": [
       "<div>\n",
       "<style scoped>\n",
       "    .dataframe tbody tr th:only-of-type {\n",
       "        vertical-align: middle;\n",
       "    }\n",
       "\n",
       "    .dataframe tbody tr th {\n",
       "        vertical-align: top;\n",
       "    }\n",
       "\n",
       "    .dataframe thead th {\n",
       "        text-align: right;\n",
       "    }\n",
       "</style>\n",
       "<table border=\"1\" class=\"dataframe\">\n",
       "  <thead>\n",
       "    <tr style=\"text-align: right;\">\n",
       "      <th></th>\n",
       "      <th>Name</th>\n",
       "      <th>Country</th>\n",
       "      <th>Founded</th>\n",
       "      <th>Industry</th>\n",
       "      <th>Number of employees</th>\n",
       "    </tr>\n",
       "  </thead>\n",
       "  <tbody>\n",
       "    <tr>\n",
       "      <th>0</th>\n",
       "      <td>Mckinney PLC</td>\n",
       "      <td>Sri Lanka</td>\n",
       "      <td>1988</td>\n",
       "      <td>Dairy</td>\n",
       "      <td>3930</td>\n",
       "    </tr>\n",
       "    <tr>\n",
       "      <th>1</th>\n",
       "      <td>Cunningham LLC</td>\n",
       "      <td>Namibia</td>\n",
       "      <td>2018</td>\n",
       "      <td>Library</td>\n",
       "      <td>7871</td>\n",
       "    </tr>\n",
       "  </tbody>\n",
       "</table>\n",
       "</div>"
      ],
      "text/plain": [
       "             Name    Country  Founded Industry  Number of employees\n",
       "0    Mckinney PLC  Sri Lanka     1988    Dairy                 3930\n",
       "1  Cunningham LLC    Namibia     2018  Library                 7871"
      ]
     },
     "execution_count": 101,
     "metadata": {},
     "output_type": "execute_result"
    }
   ],
   "source": [
    "df.drop(['Organization Id', 'Website','Description'],axis=1, inplace=True)\n",
    "df.head(2)"
   ]
  },
  {
   "cell_type": "code",
   "execution_count": 102,
   "metadata": {},
   "outputs": [
    {
     "data": {
      "text/html": [
       "<div>\n",
       "<style scoped>\n",
       "    .dataframe tbody tr th:only-of-type {\n",
       "        vertical-align: middle;\n",
       "    }\n",
       "\n",
       "    .dataframe tbody tr th {\n",
       "        vertical-align: top;\n",
       "    }\n",
       "\n",
       "    .dataframe thead th {\n",
       "        text-align: right;\n",
       "    }\n",
       "</style>\n",
       "<table border=\"1\" class=\"dataframe\">\n",
       "  <thead>\n",
       "    <tr style=\"text-align: right;\">\n",
       "      <th></th>\n",
       "      <th>Country</th>\n",
       "      <th>Founded</th>\n",
       "      <th>Industry</th>\n",
       "      <th>Number of employees</th>\n",
       "    </tr>\n",
       "  </thead>\n",
       "  <tbody>\n",
       "    <tr>\n",
       "      <th>0</th>\n",
       "      <td>Sri Lanka</td>\n",
       "      <td>1988</td>\n",
       "      <td>Dairy</td>\n",
       "      <td>3930</td>\n",
       "    </tr>\n",
       "    <tr>\n",
       "      <th>1</th>\n",
       "      <td>Namibia</td>\n",
       "      <td>2018</td>\n",
       "      <td>Library</td>\n",
       "      <td>7871</td>\n",
       "    </tr>\n",
       "  </tbody>\n",
       "</table>\n",
       "</div>"
      ],
      "text/plain": [
       "     Country  Founded Industry  Number of employees\n",
       "0  Sri Lanka     1988    Dairy                 3930\n",
       "1    Namibia     2018  Library                 7871"
      ]
     },
     "execution_count": 102,
     "metadata": {},
     "output_type": "execute_result"
    }
   ],
   "source": [
    "df.drop(['Name'], axis=1, inplace=True)\n",
    "df.head(2)"
   ]
  },
  {
   "cell_type": "code",
   "execution_count": 103,
   "metadata": {},
   "outputs": [
    {
     "data": {
      "text/html": [
       "<div>\n",
       "<style scoped>\n",
       "    .dataframe tbody tr th:only-of-type {\n",
       "        vertical-align: middle;\n",
       "    }\n",
       "\n",
       "    .dataframe tbody tr th {\n",
       "        vertical-align: top;\n",
       "    }\n",
       "\n",
       "    .dataframe thead th {\n",
       "        text-align: right;\n",
       "    }\n",
       "</style>\n",
       "<table border=\"1\" class=\"dataframe\">\n",
       "  <thead>\n",
       "    <tr style=\"text-align: right;\">\n",
       "      <th></th>\n",
       "      <th>Country</th>\n",
       "      <th>Founded</th>\n",
       "      <th>Industry</th>\n",
       "      <th>Number of employees</th>\n",
       "    </tr>\n",
       "  </thead>\n",
       "  <tbody>\n",
       "    <tr>\n",
       "      <th>0</th>\n",
       "      <td>Sri Lanka</td>\n",
       "      <td>1988</td>\n",
       "      <td>Dairy</td>\n",
       "      <td>3930</td>\n",
       "    </tr>\n",
       "    <tr>\n",
       "      <th>1</th>\n",
       "      <td>Namibia</td>\n",
       "      <td>2018</td>\n",
       "      <td>Library</td>\n",
       "      <td>7871</td>\n",
       "    </tr>\n",
       "  </tbody>\n",
       "</table>\n",
       "</div>"
      ],
      "text/plain": [
       "     Country  Founded Industry  Number of employees\n",
       "0  Sri Lanka     1988    Dairy                 3930\n",
       "1    Namibia     2018  Library                 7871"
      ]
     },
     "execution_count": 103,
     "metadata": {},
     "output_type": "execute_result"
    }
   ],
   "source": [
    "df.rename({'Number of employees':'N_emp'}, inplace=True)\n",
    "df.head(2)"
   ]
  },
  {
   "cell_type": "code",
   "execution_count": 104,
   "metadata": {},
   "outputs": [
    {
     "data": {
      "text/html": [
       "<div>\n",
       "<style scoped>\n",
       "    .dataframe tbody tr th:only-of-type {\n",
       "        vertical-align: middle;\n",
       "    }\n",
       "\n",
       "    .dataframe tbody tr th {\n",
       "        vertical-align: top;\n",
       "    }\n",
       "\n",
       "    .dataframe thead th {\n",
       "        text-align: right;\n",
       "    }\n",
       "</style>\n",
       "<table border=\"1\" class=\"dataframe\">\n",
       "  <thead>\n",
       "    <tr style=\"text-align: right;\">\n",
       "      <th></th>\n",
       "      <th>Albania</th>\n",
       "      <th>Algeria</th>\n",
       "      <th>American Samoa</th>\n",
       "      <th>Andorra</th>\n",
       "      <th>Angola</th>\n",
       "      <th>Anguilla</th>\n",
       "      <th>Antarctica (the territory South of 60 deg S)</th>\n",
       "      <th>Antigua and Barbuda</th>\n",
       "      <th>Argentina</th>\n",
       "      <th>Armenia</th>\n",
       "      <th>...</th>\n",
       "      <th>Uruguay</th>\n",
       "      <th>Uzbekistan</th>\n",
       "      <th>Vanuatu</th>\n",
       "      <th>Venezuela</th>\n",
       "      <th>Vietnam</th>\n",
       "      <th>Wallis and Futuna</th>\n",
       "      <th>Western Sahara</th>\n",
       "      <th>Yemen</th>\n",
       "      <th>Zambia</th>\n",
       "      <th>Zimbabwe</th>\n",
       "    </tr>\n",
       "  </thead>\n",
       "  <tbody>\n",
       "    <tr>\n",
       "      <th>0</th>\n",
       "      <td>False</td>\n",
       "      <td>False</td>\n",
       "      <td>False</td>\n",
       "      <td>False</td>\n",
       "      <td>False</td>\n",
       "      <td>False</td>\n",
       "      <td>False</td>\n",
       "      <td>False</td>\n",
       "      <td>False</td>\n",
       "      <td>False</td>\n",
       "      <td>...</td>\n",
       "      <td>False</td>\n",
       "      <td>False</td>\n",
       "      <td>False</td>\n",
       "      <td>False</td>\n",
       "      <td>False</td>\n",
       "      <td>False</td>\n",
       "      <td>False</td>\n",
       "      <td>False</td>\n",
       "      <td>False</td>\n",
       "      <td>False</td>\n",
       "    </tr>\n",
       "    <tr>\n",
       "      <th>1</th>\n",
       "      <td>False</td>\n",
       "      <td>False</td>\n",
       "      <td>False</td>\n",
       "      <td>False</td>\n",
       "      <td>False</td>\n",
       "      <td>False</td>\n",
       "      <td>False</td>\n",
       "      <td>False</td>\n",
       "      <td>False</td>\n",
       "      <td>False</td>\n",
       "      <td>...</td>\n",
       "      <td>False</td>\n",
       "      <td>False</td>\n",
       "      <td>False</td>\n",
       "      <td>False</td>\n",
       "      <td>False</td>\n",
       "      <td>False</td>\n",
       "      <td>False</td>\n",
       "      <td>False</td>\n",
       "      <td>False</td>\n",
       "      <td>False</td>\n",
       "    </tr>\n",
       "    <tr>\n",
       "      <th>2</th>\n",
       "      <td>False</td>\n",
       "      <td>False</td>\n",
       "      <td>False</td>\n",
       "      <td>False</td>\n",
       "      <td>False</td>\n",
       "      <td>False</td>\n",
       "      <td>False</td>\n",
       "      <td>False</td>\n",
       "      <td>False</td>\n",
       "      <td>False</td>\n",
       "      <td>...</td>\n",
       "      <td>False</td>\n",
       "      <td>False</td>\n",
       "      <td>False</td>\n",
       "      <td>False</td>\n",
       "      <td>False</td>\n",
       "      <td>False</td>\n",
       "      <td>False</td>\n",
       "      <td>False</td>\n",
       "      <td>False</td>\n",
       "      <td>False</td>\n",
       "    </tr>\n",
       "    <tr>\n",
       "      <th>3</th>\n",
       "      <td>False</td>\n",
       "      <td>False</td>\n",
       "      <td>False</td>\n",
       "      <td>False</td>\n",
       "      <td>False</td>\n",
       "      <td>False</td>\n",
       "      <td>False</td>\n",
       "      <td>False</td>\n",
       "      <td>False</td>\n",
       "      <td>False</td>\n",
       "      <td>...</td>\n",
       "      <td>False</td>\n",
       "      <td>False</td>\n",
       "      <td>False</td>\n",
       "      <td>False</td>\n",
       "      <td>False</td>\n",
       "      <td>False</td>\n",
       "      <td>False</td>\n",
       "      <td>False</td>\n",
       "      <td>False</td>\n",
       "      <td>False</td>\n",
       "    </tr>\n",
       "    <tr>\n",
       "      <th>4</th>\n",
       "      <td>False</td>\n",
       "      <td>False</td>\n",
       "      <td>False</td>\n",
       "      <td>False</td>\n",
       "      <td>False</td>\n",
       "      <td>False</td>\n",
       "      <td>False</td>\n",
       "      <td>False</td>\n",
       "      <td>False</td>\n",
       "      <td>False</td>\n",
       "      <td>...</td>\n",
       "      <td>False</td>\n",
       "      <td>False</td>\n",
       "      <td>False</td>\n",
       "      <td>False</td>\n",
       "      <td>False</td>\n",
       "      <td>False</td>\n",
       "      <td>False</td>\n",
       "      <td>False</td>\n",
       "      <td>False</td>\n",
       "      <td>False</td>\n",
       "    </tr>\n",
       "  </tbody>\n",
       "</table>\n",
       "<p>5 rows × 242 columns</p>\n",
       "</div>"
      ],
      "text/plain": [
       "   Albania  Algeria  American Samoa  Andorra  Angola  Anguilla  \\\n",
       "0    False    False           False    False   False     False   \n",
       "1    False    False           False    False   False     False   \n",
       "2    False    False           False    False   False     False   \n",
       "3    False    False           False    False   False     False   \n",
       "4    False    False           False    False   False     False   \n",
       "\n",
       "   Antarctica (the territory South of 60 deg S)  Antigua and Barbuda  \\\n",
       "0                                         False                False   \n",
       "1                                         False                False   \n",
       "2                                         False                False   \n",
       "3                                         False                False   \n",
       "4                                         False                False   \n",
       "\n",
       "   Argentina  Armenia  ...  Uruguay  Uzbekistan  Vanuatu  Venezuela  Vietnam  \\\n",
       "0      False    False  ...    False       False    False      False    False   \n",
       "1      False    False  ...    False       False    False      False    False   \n",
       "2      False    False  ...    False       False    False      False    False   \n",
       "3      False    False  ...    False       False    False      False    False   \n",
       "4      False    False  ...    False       False    False      False    False   \n",
       "\n",
       "   Wallis and Futuna  Western Sahara  Yemen  Zambia  Zimbabwe  \n",
       "0              False           False  False   False     False  \n",
       "1              False           False  False   False     False  \n",
       "2              False           False  False   False     False  \n",
       "3              False           False  False   False     False  \n",
       "4              False           False  False   False     False  \n",
       "\n",
       "[5 rows x 242 columns]"
      ]
     },
     "execution_count": 104,
     "metadata": {},
     "output_type": "execute_result"
    }
   ],
   "source": [
    "pd.get_dummies(df['Country'],drop_first=True).head()"
   ]
  },
  {
   "cell_type": "code",
   "execution_count": null,
   "metadata": {},
   "outputs": [],
   "source": []
  }
 ],
 "metadata": {
  "kernelspec": {
   "display_name": "venv",
   "language": "python",
   "name": "python3"
  },
  "language_info": {
   "codemirror_mode": {
    "name": "ipython",
    "version": 3
   },
   "file_extension": ".py",
   "mimetype": "text/x-python",
   "name": "python",
   "nbconvert_exporter": "python",
   "pygments_lexer": "ipython3",
   "version": "3.13.1"
  }
 },
 "nbformat": 4,
 "nbformat_minor": 2
}
