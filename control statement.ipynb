{
 "cells": [
  {
   "cell_type": "code",
   "execution_count": 2,
   "metadata": {},
   "outputs": [
    {
     "name": "stdout",
     "output_type": "stream",
     "text": [
      "if block executed\n",
      "outside of if block\n"
     ]
    }
   ],
   "source": [
    "condition = True\n",
    "if condition:\n",
    "    print('if block executed')\n",
    "print('outside of if block')    "
   ]
  },
  {
   "cell_type": "code",
   "execution_count": 3,
   "metadata": {},
   "outputs": [
    {
     "name": "stdout",
     "output_type": "stream",
     "text": [
      "outside of if block\n"
     ]
    }
   ],
   "source": [
    "condition = False\n",
    "if condition:\n",
    "    print('if block executed')\n",
    "    print\n",
    "else:\n",
    "    print('outside of if block')    "
   ]
  },
  {
   "cell_type": "code",
   "execution_count": 4,
   "metadata": {},
   "outputs": [
    {
     "name": "stdout",
     "output_type": "stream",
     "text": [
      "val is greater than 4\n"
     ]
    }
   ],
   "source": [
    "val = 5\n",
    "if val > 4:\n",
    "    print('val is greater than 4')\n",
    "elif val < 4:\n",
    "    print('val is less than 4')\n",
    "else:\n",
    "    print('val is equal to 4')\n"
   ]
  },
  {
   "cell_type": "code",
   "execution_count": 5,
   "metadata": {},
   "outputs": [
    {
     "name": "stdout",
     "output_type": "stream",
     "text": [
      "second False\n",
      "second False\n"
     ]
    }
   ],
   "source": [
    "condition = False\n",
    "if condition:\n",
    "    cal = True\n",
    "else:\n",
    "    val = False\n",
    "    print('second', val)\n",
    "\n",
    "    val = True if condition else False\n",
    "    print('second', val)"
   ]
  },
  {
   "cell_type": "markdown",
   "metadata": {},
   "source": [
    "###Switch"
   ]
  },
  {
   "cell_type": "code",
   "execution_count": 6,
   "metadata": {},
   "outputs": [
    {
     "name": "stdout",
     "output_type": "stream",
     "text": [
      "its case 2\n"
     ]
    }
   ],
   "source": [
    "val = 2\n",
    "match val:\n",
    "    case 1:\n",
    "        print('its case 1')\n",
    "    case 2:\n",
    "        print('its case 2')\n",
    "    case 3:\n",
    "        print('its case 3')\n",
    "    case _:\n",
    "        print('default case')\n",
    "    \n",
    "        "
   ]
  }
 ],
 "metadata": {
  "kernelspec": {
   "display_name": "venv",
   "language": "python",
   "name": "python3"
  },
  "language_info": {
   "codemirror_mode": {
    "name": "ipython",
    "version": 3
   },
   "file_extension": ".py",
   "mimetype": "text/x-python",
   "name": "python",
   "nbconvert_exporter": "python",
   "pygments_lexer": "ipython3",
   "version": "3.13.0"
  }
 },
 "nbformat": 4,
 "nbformat_minor": 2
}
