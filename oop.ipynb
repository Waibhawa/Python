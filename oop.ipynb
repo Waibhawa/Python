{
 "cells": [
  {
   "cell_type": "code",
   "execution_count": 21,
   "metadata": {},
   "outputs": [],
   "source": [
    "class Human:\n",
    "    def __init__(self,age):\n",
    "        self.age = age\n",
    "    def __repr__(self) -> str:\n",
    "        return f\"Human with age ({self.age})\"\n",
    "    \n",
    "    def other_method(self):\n",
    "        print(f'the value of age {self.age}')\n",
    "    \n",
    "    def another_method(self):\n",
    "        print('before calling other method')\n",
    "        self.other_method()\n",
    "        print('after calling other method')\n",
    "\n",
    "\n",
    "human1 = Human(10)\n",
    "human2 =Human(20)\n",
    "\n"
   ]
  },
  {
   "cell_type": "code",
   "execution_count": 22,
   "metadata": {},
   "outputs": [
    {
     "name": "stdout",
     "output_type": "stream",
     "text": [
      "Human with age (10)\n"
     ]
    }
   ],
   "source": [
    "print(human1)"
   ]
  },
  {
   "cell_type": "code",
   "execution_count": null,
   "metadata": {},
   "outputs": [],
   "source": []
  },
  {
   "cell_type": "code",
   "execution_count": 7,
   "metadata": {},
   "outputs": [
    {
     "data": {
      "text/plain": [
       "10"
      ]
     },
     "execution_count": 7,
     "metadata": {},
     "output_type": "execute_result"
    }
   ],
   "source": [
    "human1.age"
   ]
  },
  {
   "cell_type": "code",
   "execution_count": 10,
   "metadata": {},
   "outputs": [
    {
     "data": {
      "text/plain": [
       "20"
      ]
     },
     "execution_count": 10,
     "metadata": {},
     "output_type": "execute_result"
    }
   ],
   "source": [
    "human2.age"
   ]
  },
  {
   "cell_type": "code",
   "execution_count": 12,
   "metadata": {},
   "outputs": [
    {
     "name": "stdout",
     "output_type": "stream",
     "text": [
      "the value of age 10\n"
     ]
    }
   ],
   "source": [
    "human1.other_method()"
   ]
  },
  {
   "cell_type": "code",
   "execution_count": 13,
   "metadata": {},
   "outputs": [
    {
     "name": "stdout",
     "output_type": "stream",
     "text": [
      "the value of age 20\n"
     ]
    }
   ],
   "source": [
    "human2.other_method()"
   ]
  },
  {
   "cell_type": "code",
   "execution_count": 14,
   "metadata": {},
   "outputs": [
    {
     "name": "stdout",
     "output_type": "stream",
     "text": [
      "before calling other method\n",
      "the value of age 10\n",
      "after calling other method\n"
     ]
    }
   ],
   "source": [
    "human1.another_method()"
   ]
  },
  {
   "cell_type": "markdown",
   "metadata": {},
   "source": [
    "### 'Inheritance'\n",
    "   -Single Inheritance\n",
    "   -Multilevel Inheritence\n",
    "   -Multiple Inheritence\n",
    "   -Hirarchial Inheritance"
   ]
  },
  {
   "cell_type": "code",
   "execution_count": 32,
   "metadata": {},
   "outputs": [
    {
     "name": "stdout",
     "output_type": "stream",
     "text": [
      "50\n"
     ]
    }
   ],
   "source": [
    "#single inheritence\n",
    "class Parent:\n",
    "    def __init__(self, age):\n",
    "        self.age = age\n",
    "\n",
    "class Child(Parent):\n",
    "    def __init__(self, name, age):\n",
    "        #super().__init__(age)\n",
    "        Parent.__init__(self,age)\n",
    "        self.name = name\n",
    "\n",
    "child = Child('abc', 50)\n",
    "print(child.age)"
   ]
  },
  {
   "cell_type": "code",
   "execution_count": 35,
   "metadata": {},
   "outputs": [
    {
     "data": {
      "text/plain": [
       "'abcd'"
      ]
     },
     "execution_count": 35,
     "metadata": {},
     "output_type": "execute_result"
    }
   ],
   "source": [
    "#multilevel inhertance\n",
    "\n",
    "class Grandfather:\n",
    "    def __init__(self, name):\n",
    "        self.name = name\n",
    "\n",
    "class Father(Grandfather):\n",
    "    def __init__(self, name):\n",
    "        super().__init__(name)\n",
    "\n",
    "class Child(Father):\n",
    "    def __init__(self, name):\n",
    "        super().__init__(name)\n",
    "\n",
    "child = Child('abcd')\n",
    "child.name\n"
   ]
  },
  {
   "cell_type": "code",
   "execution_count": 37,
   "metadata": {},
   "outputs": [
    {
     "data": {
      "text/plain": [
       "'b'"
      ]
     },
     "execution_count": 37,
     "metadata": {},
     "output_type": "execute_result"
    }
   ],
   "source": [
    "#multiple inheritance\n",
    "\n",
    "class Father:\n",
    "    def __init__(self, father_name):\n",
    "        self.father_name = father_name\n",
    "\n",
    "class Mother:\n",
    "    def __init__(self, mother_name):\n",
    "        self.mother_name = mother_name\n",
    "\n",
    "class Child(Father, Mother):\n",
    "    def __init__(self, child_name, father_name, mother_name):\n",
    "        Father.__init__(self, father_name)\n",
    "        Mother.__init__(self, mother_name)\n",
    "        self.child_name = child_name\n",
    "child = Child('a','b','c')\n",
    "child.father_name"
   ]
  }
 ],
 "metadata": {
  "kernelspec": {
   "display_name": "venv",
   "language": "python",
   "name": "python3"
  },
  "language_info": {
   "codemirror_mode": {
    "name": "ipython",
    "version": 3
   },
   "file_extension": ".py",
   "mimetype": "text/x-python",
   "name": "python",
   "nbconvert_exporter": "python",
   "pygments_lexer": "ipython3",
   "version": "3.13.0"
  }
 },
 "nbformat": 4,
 "nbformat_minor": 2
}
